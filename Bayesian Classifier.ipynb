{
 "cells": [
  {
   "cell_type": "code",
   "execution_count": 1,
   "metadata": {},
   "outputs": [],
   "source": [
    "from sklearn.naive_bayes import GaussianNB\n",
    "from sklearn.naive_bayes import MultinomialNB\n",
    "from sklearn.naive_bayes import BernoulliNB\n",
    "from sklearn import datasets\n",
    "from sklearn.model_selection import train_test_split\n",
    "import matplotlib.pyplot as plt\n",
    "import numpy as np\n",
    "import pandas as pd\n",
    "%matplotlib inline"
   ]
  },
  {
   "cell_type": "code",
   "execution_count": 2,
   "metadata": {},
   "outputs": [],
   "source": [
    "iris=datasets.load_iris()"
   ]
  },
  {
   "cell_type": "code",
   "execution_count": 3,
   "metadata": {},
   "outputs": [
    {
     "data": {
      "text/plain": [
       "{'DESCR': 'Iris Plants Database\\n====================\\n\\nNotes\\n-----\\nData Set Characteristics:\\n    :Number of Instances: 150 (50 in each of three classes)\\n    :Number of Attributes: 4 numeric, predictive attributes and the class\\n    :Attribute Information:\\n        - sepal length in cm\\n        - sepal width in cm\\n        - petal length in cm\\n        - petal width in cm\\n        - class:\\n                - Iris-Setosa\\n                - Iris-Versicolour\\n                - Iris-Virginica\\n    :Summary Statistics:\\n\\n    ============== ==== ==== ======= ===== ====================\\n                    Min  Max   Mean    SD   Class Correlation\\n    ============== ==== ==== ======= ===== ====================\\n    sepal length:   4.3  7.9   5.84   0.83    0.7826\\n    sepal width:    2.0  4.4   3.05   0.43   -0.4194\\n    petal length:   1.0  6.9   3.76   1.76    0.9490  (high!)\\n    petal width:    0.1  2.5   1.20  0.76     0.9565  (high!)\\n    ============== ==== ==== ======= ===== ====================\\n\\n    :Missing Attribute Values: None\\n    :Class Distribution: 33.3% for each of 3 classes.\\n    :Creator: R.A. Fisher\\n    :Donor: Michael Marshall (MARSHALL%PLU@io.arc.nasa.gov)\\n    :Date: July, 1988\\n\\nThis is a copy of UCI ML iris datasets.\\nhttp://archive.ics.uci.edu/ml/datasets/Iris\\n\\nThe famous Iris database, first used by Sir R.A Fisher\\n\\nThis is perhaps the best known database to be found in the\\npattern recognition literature.  Fisher\\'s paper is a classic in the field and\\nis referenced frequently to this day.  (See Duda & Hart, for example.)  The\\ndata set contains 3 classes of 50 instances each, where each class refers to a\\ntype of iris plant.  One class is linearly separable from the other 2; the\\nlatter are NOT linearly separable from each other.\\n\\nReferences\\n----------\\n   - Fisher,R.A. \"The use of multiple measurements in taxonomic problems\"\\n     Annual Eugenics, 7, Part II, 179-188 (1936); also in \"Contributions to\\n     Mathematical Statistics\" (John Wiley, NY, 1950).\\n   - Duda,R.O., & Hart,P.E. (1973) Pattern Classification and Scene Analysis.\\n     (Q327.D83) John Wiley & Sons.  ISBN 0-471-22361-1.  See page 218.\\n   - Dasarathy, B.V. (1980) \"Nosing Around the Neighborhood: A New System\\n     Structure and Classification Rule for Recognition in Partially Exposed\\n     Environments\".  IEEE Transactions on Pattern Analysis and Machine\\n     Intelligence, Vol. PAMI-2, No. 1, 67-71.\\n   - Gates, G.W. (1972) \"The Reduced Nearest Neighbor Rule\".  IEEE Transactions\\n     on Information Theory, May 1972, 431-433.\\n   - See also: 1988 MLC Proceedings, 54-64.  Cheeseman et al\"s AUTOCLASS II\\n     conceptual clustering system finds 3 classes in the data.\\n   - Many, many more ...\\n',\n",
       " 'data': array([[5.1, 3.5, 1.4, 0.2],\n",
       "        [4.9, 3. , 1.4, 0.2],\n",
       "        [4.7, 3.2, 1.3, 0.2],\n",
       "        [4.6, 3.1, 1.5, 0.2],\n",
       "        [5. , 3.6, 1.4, 0.2],\n",
       "        [5.4, 3.9, 1.7, 0.4],\n",
       "        [4.6, 3.4, 1.4, 0.3],\n",
       "        [5. , 3.4, 1.5, 0.2],\n",
       "        [4.4, 2.9, 1.4, 0.2],\n",
       "        [4.9, 3.1, 1.5, 0.1],\n",
       "        [5.4, 3.7, 1.5, 0.2],\n",
       "        [4.8, 3.4, 1.6, 0.2],\n",
       "        [4.8, 3. , 1.4, 0.1],\n",
       "        [4.3, 3. , 1.1, 0.1],\n",
       "        [5.8, 4. , 1.2, 0.2],\n",
       "        [5.7, 4.4, 1.5, 0.4],\n",
       "        [5.4, 3.9, 1.3, 0.4],\n",
       "        [5.1, 3.5, 1.4, 0.3],\n",
       "        [5.7, 3.8, 1.7, 0.3],\n",
       "        [5.1, 3.8, 1.5, 0.3],\n",
       "        [5.4, 3.4, 1.7, 0.2],\n",
       "        [5.1, 3.7, 1.5, 0.4],\n",
       "        [4.6, 3.6, 1. , 0.2],\n",
       "        [5.1, 3.3, 1.7, 0.5],\n",
       "        [4.8, 3.4, 1.9, 0.2],\n",
       "        [5. , 3. , 1.6, 0.2],\n",
       "        [5. , 3.4, 1.6, 0.4],\n",
       "        [5.2, 3.5, 1.5, 0.2],\n",
       "        [5.2, 3.4, 1.4, 0.2],\n",
       "        [4.7, 3.2, 1.6, 0.2],\n",
       "        [4.8, 3.1, 1.6, 0.2],\n",
       "        [5.4, 3.4, 1.5, 0.4],\n",
       "        [5.2, 4.1, 1.5, 0.1],\n",
       "        [5.5, 4.2, 1.4, 0.2],\n",
       "        [4.9, 3.1, 1.5, 0.1],\n",
       "        [5. , 3.2, 1.2, 0.2],\n",
       "        [5.5, 3.5, 1.3, 0.2],\n",
       "        [4.9, 3.1, 1.5, 0.1],\n",
       "        [4.4, 3. , 1.3, 0.2],\n",
       "        [5.1, 3.4, 1.5, 0.2],\n",
       "        [5. , 3.5, 1.3, 0.3],\n",
       "        [4.5, 2.3, 1.3, 0.3],\n",
       "        [4.4, 3.2, 1.3, 0.2],\n",
       "        [5. , 3.5, 1.6, 0.6],\n",
       "        [5.1, 3.8, 1.9, 0.4],\n",
       "        [4.8, 3. , 1.4, 0.3],\n",
       "        [5.1, 3.8, 1.6, 0.2],\n",
       "        [4.6, 3.2, 1.4, 0.2],\n",
       "        [5.3, 3.7, 1.5, 0.2],\n",
       "        [5. , 3.3, 1.4, 0.2],\n",
       "        [7. , 3.2, 4.7, 1.4],\n",
       "        [6.4, 3.2, 4.5, 1.5],\n",
       "        [6.9, 3.1, 4.9, 1.5],\n",
       "        [5.5, 2.3, 4. , 1.3],\n",
       "        [6.5, 2.8, 4.6, 1.5],\n",
       "        [5.7, 2.8, 4.5, 1.3],\n",
       "        [6.3, 3.3, 4.7, 1.6],\n",
       "        [4.9, 2.4, 3.3, 1. ],\n",
       "        [6.6, 2.9, 4.6, 1.3],\n",
       "        [5.2, 2.7, 3.9, 1.4],\n",
       "        [5. , 2. , 3.5, 1. ],\n",
       "        [5.9, 3. , 4.2, 1.5],\n",
       "        [6. , 2.2, 4. , 1. ],\n",
       "        [6.1, 2.9, 4.7, 1.4],\n",
       "        [5.6, 2.9, 3.6, 1.3],\n",
       "        [6.7, 3.1, 4.4, 1.4],\n",
       "        [5.6, 3. , 4.5, 1.5],\n",
       "        [5.8, 2.7, 4.1, 1. ],\n",
       "        [6.2, 2.2, 4.5, 1.5],\n",
       "        [5.6, 2.5, 3.9, 1.1],\n",
       "        [5.9, 3.2, 4.8, 1.8],\n",
       "        [6.1, 2.8, 4. , 1.3],\n",
       "        [6.3, 2.5, 4.9, 1.5],\n",
       "        [6.1, 2.8, 4.7, 1.2],\n",
       "        [6.4, 2.9, 4.3, 1.3],\n",
       "        [6.6, 3. , 4.4, 1.4],\n",
       "        [6.8, 2.8, 4.8, 1.4],\n",
       "        [6.7, 3. , 5. , 1.7],\n",
       "        [6. , 2.9, 4.5, 1.5],\n",
       "        [5.7, 2.6, 3.5, 1. ],\n",
       "        [5.5, 2.4, 3.8, 1.1],\n",
       "        [5.5, 2.4, 3.7, 1. ],\n",
       "        [5.8, 2.7, 3.9, 1.2],\n",
       "        [6. , 2.7, 5.1, 1.6],\n",
       "        [5.4, 3. , 4.5, 1.5],\n",
       "        [6. , 3.4, 4.5, 1.6],\n",
       "        [6.7, 3.1, 4.7, 1.5],\n",
       "        [6.3, 2.3, 4.4, 1.3],\n",
       "        [5.6, 3. , 4.1, 1.3],\n",
       "        [5.5, 2.5, 4. , 1.3],\n",
       "        [5.5, 2.6, 4.4, 1.2],\n",
       "        [6.1, 3. , 4.6, 1.4],\n",
       "        [5.8, 2.6, 4. , 1.2],\n",
       "        [5. , 2.3, 3.3, 1. ],\n",
       "        [5.6, 2.7, 4.2, 1.3],\n",
       "        [5.7, 3. , 4.2, 1.2],\n",
       "        [5.7, 2.9, 4.2, 1.3],\n",
       "        [6.2, 2.9, 4.3, 1.3],\n",
       "        [5.1, 2.5, 3. , 1.1],\n",
       "        [5.7, 2.8, 4.1, 1.3],\n",
       "        [6.3, 3.3, 6. , 2.5],\n",
       "        [5.8, 2.7, 5.1, 1.9],\n",
       "        [7.1, 3. , 5.9, 2.1],\n",
       "        [6.3, 2.9, 5.6, 1.8],\n",
       "        [6.5, 3. , 5.8, 2.2],\n",
       "        [7.6, 3. , 6.6, 2.1],\n",
       "        [4.9, 2.5, 4.5, 1.7],\n",
       "        [7.3, 2.9, 6.3, 1.8],\n",
       "        [6.7, 2.5, 5.8, 1.8],\n",
       "        [7.2, 3.6, 6.1, 2.5],\n",
       "        [6.5, 3.2, 5.1, 2. ],\n",
       "        [6.4, 2.7, 5.3, 1.9],\n",
       "        [6.8, 3. , 5.5, 2.1],\n",
       "        [5.7, 2.5, 5. , 2. ],\n",
       "        [5.8, 2.8, 5.1, 2.4],\n",
       "        [6.4, 3.2, 5.3, 2.3],\n",
       "        [6.5, 3. , 5.5, 1.8],\n",
       "        [7.7, 3.8, 6.7, 2.2],\n",
       "        [7.7, 2.6, 6.9, 2.3],\n",
       "        [6. , 2.2, 5. , 1.5],\n",
       "        [6.9, 3.2, 5.7, 2.3],\n",
       "        [5.6, 2.8, 4.9, 2. ],\n",
       "        [7.7, 2.8, 6.7, 2. ],\n",
       "        [6.3, 2.7, 4.9, 1.8],\n",
       "        [6.7, 3.3, 5.7, 2.1],\n",
       "        [7.2, 3.2, 6. , 1.8],\n",
       "        [6.2, 2.8, 4.8, 1.8],\n",
       "        [6.1, 3. , 4.9, 1.8],\n",
       "        [6.4, 2.8, 5.6, 2.1],\n",
       "        [7.2, 3. , 5.8, 1.6],\n",
       "        [7.4, 2.8, 6.1, 1.9],\n",
       "        [7.9, 3.8, 6.4, 2. ],\n",
       "        [6.4, 2.8, 5.6, 2.2],\n",
       "        [6.3, 2.8, 5.1, 1.5],\n",
       "        [6.1, 2.6, 5.6, 1.4],\n",
       "        [7.7, 3. , 6.1, 2.3],\n",
       "        [6.3, 3.4, 5.6, 2.4],\n",
       "        [6.4, 3.1, 5.5, 1.8],\n",
       "        [6. , 3. , 4.8, 1.8],\n",
       "        [6.9, 3.1, 5.4, 2.1],\n",
       "        [6.7, 3.1, 5.6, 2.4],\n",
       "        [6.9, 3.1, 5.1, 2.3],\n",
       "        [5.8, 2.7, 5.1, 1.9],\n",
       "        [6.8, 3.2, 5.9, 2.3],\n",
       "        [6.7, 3.3, 5.7, 2.5],\n",
       "        [6.7, 3. , 5.2, 2.3],\n",
       "        [6.3, 2.5, 5. , 1.9],\n",
       "        [6.5, 3. , 5.2, 2. ],\n",
       "        [6.2, 3.4, 5.4, 2.3],\n",
       "        [5.9, 3. , 5.1, 1.8]]),\n",
       " 'feature_names': ['sepal length (cm)',\n",
       "  'sepal width (cm)',\n",
       "  'petal length (cm)',\n",
       "  'petal width (cm)'],\n",
       " 'target': array([0, 0, 0, 0, 0, 0, 0, 0, 0, 0, 0, 0, 0, 0, 0, 0, 0, 0, 0, 0, 0, 0,\n",
       "        0, 0, 0, 0, 0, 0, 0, 0, 0, 0, 0, 0, 0, 0, 0, 0, 0, 0, 0, 0, 0, 0,\n",
       "        0, 0, 0, 0, 0, 0, 1, 1, 1, 1, 1, 1, 1, 1, 1, 1, 1, 1, 1, 1, 1, 1,\n",
       "        1, 1, 1, 1, 1, 1, 1, 1, 1, 1, 1, 1, 1, 1, 1, 1, 1, 1, 1, 1, 1, 1,\n",
       "        1, 1, 1, 1, 1, 1, 1, 1, 1, 1, 1, 1, 2, 2, 2, 2, 2, 2, 2, 2, 2, 2,\n",
       "        2, 2, 2, 2, 2, 2, 2, 2, 2, 2, 2, 2, 2, 2, 2, 2, 2, 2, 2, 2, 2, 2,\n",
       "        2, 2, 2, 2, 2, 2, 2, 2, 2, 2, 2, 2, 2, 2, 2, 2, 2, 2]),\n",
       " 'target_names': array(['setosa', 'versicolor', 'virginica'], dtype='<U10')}"
      ]
     },
     "execution_count": 3,
     "metadata": {},
     "output_type": "execute_result"
    }
   ],
   "source": [
    "iris"
   ]
  },
  {
   "cell_type": "code",
   "execution_count": 4,
   "metadata": {},
   "outputs": [],
   "source": [
    "X=iris.data\n",
    "y=iris.target"
   ]
  },
  {
   "cell_type": "code",
   "execution_count": 5,
   "metadata": {},
   "outputs": [],
   "source": [
    "X_train,X_test,y_train,y_test=train_test_split(X,y,test_size=0.3)"
   ]
  },
  {
   "cell_type": "markdown",
   "metadata": {},
   "source": [
    "## Gaussian Naive Bayes"
   ]
  },
  {
   "cell_type": "markdown",
   "metadata": {},
   "source": [
    "### 主要用於連續變數，比方說特徵長度為幾公分、重量為幾公斤等等。"
   ]
  },
  {
   "cell_type": "markdown",
   "metadata": {},
   "source": [
    "$$ P(X_j|Y_i)=\\frac{1}{\\sqrt{2\\pi\\sigma_{Y_i}^2}} exp(-\\frac{(X_j-\\mu_{Y_i})^2}{2\\sigma_{Y_i}^{2}})$$"
   ]
  },
  {
   "cell_type": "code",
   "execution_count": 6,
   "metadata": {},
   "outputs": [
    {
     "data": {
      "text/plain": [
       "array([2, 0, 0, 2, 1, 1, 0, 1, 2, 0, 0, 1, 1, 1, 1, 1, 0, 0, 2, 0, 1, 2,\n",
       "       1, 1, 0, 2, 0, 2, 1, 0, 0, 0, 2, 1, 2, 1, 0, 1, 2, 2, 0, 1, 1, 2,\n",
       "       1])"
      ]
     },
     "execution_count": 6,
     "metadata": {},
     "output_type": "execute_result"
    }
   ],
   "source": [
    "modelg=GaussianNB()\n",
    "modelg.fit(X_train,y_train)\n",
    "modelg.predict(X_test)"
   ]
  },
  {
   "cell_type": "code",
   "execution_count": 7,
   "metadata": {
    "scrolled": true
   },
   "outputs": [
    {
     "data": {
      "text/plain": [
       "array([[9.73225569e-181, 4.89735634e-006, 9.99995103e-001],\n",
       "       [1.00000000e+000, 1.07342195e-015, 3.88294725e-027],\n",
       "       [1.00000000e+000, 1.96172557e-015, 1.29316912e-026],\n",
       "       [1.06120709e-242, 5.79518154e-010, 9.99999999e-001],\n",
       "       [3.78201726e-095, 9.91002368e-001, 8.99763181e-003],\n",
       "       [1.30095108e-083, 9.94874813e-001, 5.12518712e-003],\n",
       "       [1.00000000e+000, 7.23114090e-016, 2.95505980e-027],\n",
       "       [1.14398498e-121, 9.85179155e-001, 1.48208451e-002],\n",
       "       [1.28475663e-209, 5.56480209e-007, 9.99999444e-001],\n",
       "       [1.00000000e+000, 1.96172557e-015, 1.29316912e-026],\n",
       "       [1.00000000e+000, 3.97336700e-019, 1.07070049e-029],\n",
       "       [3.10486358e-081, 9.97892486e-001, 2.10751392e-003],\n",
       "       [3.03407230e-109, 8.59175096e-001, 1.40824904e-001],\n",
       "       [1.01377360e-068, 9.99808736e-001, 1.91263668e-004],\n",
       "       [3.84474883e-047, 9.99999751e-001, 2.49228338e-007],\n",
       "       [8.55904483e-061, 9.99982540e-001, 1.74597074e-005],\n",
       "       [1.00000000e+000, 1.29310591e-015, 1.93410302e-026],\n",
       "       [1.00000000e+000, 1.05492618e-015, 9.66889184e-027],\n",
       "       [7.08568882e-160, 3.28034015e-003, 9.96719660e-001],\n",
       "       [1.00000000e+000, 1.76536304e-015, 2.82811841e-026],\n",
       "       [8.26826483e-090, 9.77111039e-001, 2.28889609e-002],\n",
       "       [2.03148249e-118, 2.65425316e-001, 7.34574684e-001],\n",
       "       [3.97225461e-097, 9.02583068e-001, 9.74169322e-002],\n",
       "       [6.92119600e-090, 9.60312138e-001, 3.96878619e-002],\n",
       "       [1.00000000e+000, 9.00780279e-016, 5.96150526e-027],\n",
       "       [1.22031811e-160, 3.49494845e-004, 9.99650505e-001],\n",
       "       [1.00000000e+000, 5.11094496e-015, 3.66510143e-026],\n",
       "       [1.35952440e-276, 9.86296109e-012, 1.00000000e+000],\n",
       "       [8.75965209e-100, 8.28923987e-001, 1.71076013e-001],\n",
       "       [1.00000000e+000, 4.93887215e-014, 2.61680950e-025],\n",
       "       [1.00000000e+000, 1.42272182e-016, 2.18712774e-028],\n",
       "       [1.00000000e+000, 9.00881723e-013, 4.45764713e-023],\n",
       "       [1.16998861e-212, 1.72150545e-008, 9.99999983e-001],\n",
       "       [4.94496576e-097, 9.84740659e-001, 1.52593406e-002],\n",
       "       [7.76465646e-197, 1.42611839e-006, 9.99998574e-001],\n",
       "       [6.71065782e-102, 9.81512728e-001, 1.84872722e-002],\n",
       "       [1.00000000e+000, 2.47578768e-015, 4.28436904e-026],\n",
       "       [8.04718392e-127, 6.62644407e-001, 3.37355593e-001],\n",
       "       [2.04671022e-243, 6.10700880e-010, 9.99999999e-001],\n",
       "       [2.17599792e-125, 1.55027864e-001, 8.44972136e-001],\n",
       "       [1.00000000e+000, 1.12281508e-014, 1.39601017e-025],\n",
       "       [3.12843130e-075, 9.99716790e-001, 2.83210319e-004],\n",
       "       [2.92909534e-040, 9.99999990e-001, 1.04868197e-008],\n",
       "       [1.54227039e-146, 3.43898851e-002, 9.65610115e-001],\n",
       "       [1.29261168e-080, 9.98748110e-001, 1.25188969e-003]])"
      ]
     },
     "execution_count": 7,
     "metadata": {},
     "output_type": "execute_result"
    }
   ],
   "source": [
    "modelg.predict_proba(X_test)"
   ]
  },
  {
   "cell_type": "code",
   "execution_count": 8,
   "metadata": {},
   "outputs": [
    {
     "name": "stdout",
     "output_type": "stream",
     "text": [
      "Training Set Score: 0.9619047619047619\n",
      "Test Set Score: 0.9333333333333333\n"
     ]
    }
   ],
   "source": [
    "print('Training Set Score:',modelg.score(X_train,y_train))\n",
    "print('Test Set Score:',modelg.score(X_test,y_test))"
   ]
  },
  {
   "cell_type": "markdown",
   "metadata": {},
   "source": [
    "## Multinomial Naive Bayes"
   ]
  },
  {
   "cell_type": "markdown",
   "metadata": {},
   "source": [
    "### 主要用在離散變數，比方說次數、類別等等。"
   ]
  },
  {
   "cell_type": "markdown",
   "metadata": {},
   "source": [
    " $$ P(Y_i)=\\frac{N_{Y_i}+\\alpha}{N+K_\\alpha} $$\n",
    " $$ $$\n",
    " $$P(X_j|Y_i)=\\frac{N_{Y_i,x_j}+\\alpha}{N_{Y_i}+n\\alpha} $$ \n",
    " "
   ]
  },
  {
   "cell_type": "code",
   "execution_count": 9,
   "metadata": {},
   "outputs": [
    {
     "data": {
      "text/plain": [
       "array([2, 0, 0, 2, 2, 2, 0, 2, 2, 0, 0, 1, 2, 1, 1, 1, 0, 0, 2, 0, 1, 2,\n",
       "       1, 1, 0, 2, 0, 2, 2, 0, 0, 0, 2, 2, 2, 2, 0, 2, 2, 2, 0, 2, 2, 2,\n",
       "       1])"
      ]
     },
     "execution_count": 9,
     "metadata": {},
     "output_type": "execute_result"
    }
   ],
   "source": [
    "modelm=MultinomialNB()\n",
    "modelm.fit(X_train,y_train)\n",
    "modelm.predict(X_test)"
   ]
  },
  {
   "cell_type": "code",
   "execution_count": 10,
   "metadata": {},
   "outputs": [
    {
     "data": {
      "text/plain": [
       "array([[0.00774907, 0.41245383, 0.5797971 ],\n",
       "       [0.71248848, 0.17410151, 0.11341001],\n",
       "       [0.71326005, 0.17434433, 0.11239562],\n",
       "       [0.01371604, 0.47131675, 0.51496722],\n",
       "       [0.04056004, 0.45742259, 0.50201737],\n",
       "       [0.05581974, 0.46417425, 0.48000601],\n",
       "       [0.74893148, 0.15376235, 0.09730617],\n",
       "       [0.01942044, 0.44712168, 0.53345788],\n",
       "       [0.00768361, 0.42796666, 0.56434973],\n",
       "       [0.71326005, 0.17434433, 0.11239562],\n",
       "       [0.82811946, 0.10980533, 0.06207521],\n",
       "       [0.06888248, 0.47251483, 0.45860269],\n",
       "       [0.04312441, 0.47500947, 0.48186612],\n",
       "       [0.07617958, 0.46668905, 0.45713136],\n",
       "       [0.09596198, 0.45792753, 0.44611049],\n",
       "       [0.08231808, 0.46318907, 0.45449285],\n",
       "       [0.72800333, 0.16648403, 0.10551264],\n",
       "       [0.73116422, 0.16434723, 0.10448855],\n",
       "       [0.01357927, 0.44197285, 0.54444788],\n",
       "       [0.73189277, 0.16456222, 0.10354501],\n",
       "       [0.06246499, 0.47448864, 0.46304638],\n",
       "       [0.04303825, 0.47726627, 0.47969548],\n",
       "       [0.05552   , 0.47248855, 0.47199145],\n",
       "       [0.06744052, 0.47620896, 0.45635052],\n",
       "       [0.70287605, 0.17881681, 0.11830714],\n",
       "       [0.01579774, 0.44703911, 0.53716315],\n",
       "       [0.67350878, 0.19501886, 0.13147235],\n",
       "       [0.00807268, 0.45327943, 0.53864789],\n",
       "       [0.05102002, 0.46762795, 0.48135203],\n",
       "       [0.65743054, 0.20364895, 0.13892051],\n",
       "       [0.73842407, 0.15760499, 0.10397094],\n",
       "       [0.65460665, 0.20764609, 0.13774726],\n",
       "       [0.00765716, 0.42673207, 0.56561078],\n",
       "       [0.04899193, 0.46902062, 0.48198745],\n",
       "       [0.01185387, 0.44521771, 0.54292841],\n",
       "       [0.04290797, 0.46752959, 0.48956244],\n",
       "       [0.73368708, 0.16319002, 0.1031229 ],\n",
       "       [0.02751047, 0.46270788, 0.50978165],\n",
       "       [0.00513113, 0.41296196, 0.58190691],\n",
       "       [0.02499363, 0.4528601 , 0.52214627],\n",
       "       [0.67435588, 0.19532496, 0.13031916],\n",
       "       [0.064738  , 0.4646372 , 0.4706248 ],\n",
       "       [0.08035418, 0.45104218, 0.46860364],\n",
       "       [0.0139824 , 0.43505545, 0.55096215],\n",
       "       [0.06629824, 0.47045898, 0.46324278]])"
      ]
     },
     "execution_count": 10,
     "metadata": {},
     "output_type": "execute_result"
    }
   ],
   "source": [
    "modelm.predict_proba(X_test)"
   ]
  },
  {
   "cell_type": "code",
   "execution_count": 11,
   "metadata": {},
   "outputs": [
    {
     "name": "stdout",
     "output_type": "stream",
     "text": [
      "Training Set Score: 0.8\n",
      "Test Set Score: 0.8\n"
     ]
    }
   ],
   "source": [
    "print('Training Set Score:',modelm.score(X_train,y_train))\n",
    "print('Test Set Score:',modelm.score(X_test,y_test))"
   ]
  },
  {
   "cell_type": "markdown",
   "metadata": {},
   "source": [
    "## Bernoulli Naive Bayes"
   ]
  },
  {
   "cell_type": "markdown",
   "metadata": {},
   "source": [
    "### 用在二元的特徵，比方說特徵是否出現、特徵大小、特徵長短等等這種二元的分類。"
   ]
  },
  {
   "cell_type": "markdown",
   "metadata": {},
   "source": [
    "$$ P(X_j|Y_i)=P_{Y_i}^{X_j}(1-P_{Y_i})^{X_j} $$"
   ]
  },
  {
   "cell_type": "code",
   "execution_count": 12,
   "metadata": {},
   "outputs": [
    {
     "data": {
      "text/plain": [
       "array([2, 2, 2, 2, 2, 2, 2, 2, 2, 2, 2, 2, 2, 2, 2, 2, 2, 2, 2, 2, 2, 2,\n",
       "       2, 2, 2, 2, 2, 2, 2, 2, 2, 2, 2, 2, 2, 2, 2, 2, 2, 2, 2, 2, 2, 2,\n",
       "       2])"
      ]
     },
     "execution_count": 12,
     "metadata": {},
     "output_type": "execute_result"
    }
   ],
   "source": [
    "modelb = BernoulliNB()\n",
    "modelb.fit(X_train,y_train)\n",
    "modelb.predict(X_test)"
   ]
  },
  {
   "cell_type": "code",
   "execution_count": 13,
   "metadata": {},
   "outputs": [
    {
     "data": {
      "text/plain": [
       "array([2, 0, 0, 2, 2, 2, 0, 2, 2, 0, 0, 2, 2, 2, 0, 2, 0, 0, 2, 0, 2, 2,\n",
       "       2, 2, 0, 2, 0, 2, 2, 0, 0, 0, 2, 2, 2, 2, 0, 2, 2, 2, 0, 2, 0, 2,\n",
       "       2])"
      ]
     },
     "execution_count": 13,
     "metadata": {},
     "output_type": "execute_result"
    }
   ],
   "source": [
    "modelb = BernoulliNB(binarize=1)\n",
    "modelb.fit(X_train,y_train)\n",
    "modelb.predict(X_test)"
   ]
  },
  {
   "cell_type": "code",
   "execution_count": 14,
   "metadata": {},
   "outputs": [
    {
     "data": {
      "text/plain": [
       "0.6222222222222222"
      ]
     },
     "execution_count": 14,
     "metadata": {},
     "output_type": "execute_result"
    }
   ],
   "source": [
    "modelb.score(X_test,y_test)"
   ]
  },
  {
   "cell_type": "code",
   "execution_count": 15,
   "metadata": {},
   "outputs": [
    {
     "data": {
      "text/html": [
       "<div>\n",
       "<style scoped>\n",
       "    .dataframe tbody tr th:only-of-type {\n",
       "        vertical-align: middle;\n",
       "    }\n",
       "\n",
       "    .dataframe tbody tr th {\n",
       "        vertical-align: top;\n",
       "    }\n",
       "\n",
       "    .dataframe thead th {\n",
       "        text-align: right;\n",
       "    }\n",
       "</style>\n",
       "<table border=\"1\" class=\"dataframe\">\n",
       "  <thead>\n",
       "    <tr style=\"text-align: right;\">\n",
       "      <th></th>\n",
       "      <th>0</th>\n",
       "      <th>1</th>\n",
       "      <th>2</th>\n",
       "      <th>3</th>\n",
       "    </tr>\n",
       "  </thead>\n",
       "  <tbody>\n",
       "    <tr>\n",
       "      <th>count</th>\n",
       "      <td>150.000000</td>\n",
       "      <td>150.000000</td>\n",
       "      <td>150.000000</td>\n",
       "      <td>150.000000</td>\n",
       "    </tr>\n",
       "    <tr>\n",
       "      <th>mean</th>\n",
       "      <td>5.843333</td>\n",
       "      <td>3.054000</td>\n",
       "      <td>3.758667</td>\n",
       "      <td>1.198667</td>\n",
       "    </tr>\n",
       "    <tr>\n",
       "      <th>std</th>\n",
       "      <td>0.828066</td>\n",
       "      <td>0.433594</td>\n",
       "      <td>1.764420</td>\n",
       "      <td>0.763161</td>\n",
       "    </tr>\n",
       "    <tr>\n",
       "      <th>min</th>\n",
       "      <td>4.300000</td>\n",
       "      <td>2.000000</td>\n",
       "      <td>1.000000</td>\n",
       "      <td>0.100000</td>\n",
       "    </tr>\n",
       "    <tr>\n",
       "      <th>25%</th>\n",
       "      <td>5.100000</td>\n",
       "      <td>2.800000</td>\n",
       "      <td>1.600000</td>\n",
       "      <td>0.300000</td>\n",
       "    </tr>\n",
       "    <tr>\n",
       "      <th>50%</th>\n",
       "      <td>5.800000</td>\n",
       "      <td>3.000000</td>\n",
       "      <td>4.350000</td>\n",
       "      <td>1.300000</td>\n",
       "    </tr>\n",
       "    <tr>\n",
       "      <th>75%</th>\n",
       "      <td>6.400000</td>\n",
       "      <td>3.300000</td>\n",
       "      <td>5.100000</td>\n",
       "      <td>1.800000</td>\n",
       "    </tr>\n",
       "    <tr>\n",
       "      <th>max</th>\n",
       "      <td>7.900000</td>\n",
       "      <td>4.400000</td>\n",
       "      <td>6.900000</td>\n",
       "      <td>2.500000</td>\n",
       "    </tr>\n",
       "  </tbody>\n",
       "</table>\n",
       "</div>"
      ],
      "text/plain": [
       "                0           1           2           3\n",
       "count  150.000000  150.000000  150.000000  150.000000\n",
       "mean     5.843333    3.054000    3.758667    1.198667\n",
       "std      0.828066    0.433594    1.764420    0.763161\n",
       "min      4.300000    2.000000    1.000000    0.100000\n",
       "25%      5.100000    2.800000    1.600000    0.300000\n",
       "50%      5.800000    3.000000    4.350000    1.300000\n",
       "75%      6.400000    3.300000    5.100000    1.800000\n",
       "max      7.900000    4.400000    6.900000    2.500000"
      ]
     },
     "execution_count": 15,
     "metadata": {},
     "output_type": "execute_result"
    }
   ],
   "source": [
    "X=pd.DataFrame(X)\n",
    "X.describe()"
   ]
  },
  {
   "cell_type": "code",
   "execution_count": 16,
   "metadata": {},
   "outputs": [
    {
     "data": {
      "text/plain": [
       "array([2, 0, 0, 2, 2, 1, 0, 2, 2, 0, 0, 1, 2, 1, 0, 0, 0, 0, 2, 0, 2, 2,\n",
       "       2, 2, 0, 2, 0, 2, 2, 0, 0, 0, 2, 2, 2, 2, 0, 2, 2, 2, 0, 0, 0, 2,\n",
       "       1])"
      ]
     },
     "execution_count": 16,
     "metadata": {},
     "output_type": "execute_result"
    }
   ],
   "source": [
    "modelb = BernoulliNB(binarize=[5.8,3,4.35,1.3])\n",
    "modelb.fit(X_train,y_train)\n",
    "modelb.predict(X_test)"
   ]
  },
  {
   "cell_type": "code",
   "execution_count": 17,
   "metadata": {},
   "outputs": [
    {
     "data": {
      "text/plain": [
       "array([[6.81119385e-04, 4.92372318e-01, 5.06946563e-01],\n",
       "       [5.00033918e-01, 4.99767214e-01, 1.98868598e-04],\n",
       "       [9.68730027e-01, 3.12326882e-02, 3.72845641e-05],\n",
       "       [5.47556671e-05, 3.44747823e-02, 9.65470462e-01],\n",
       "       [6.81119385e-04, 4.92372318e-01, 5.06946563e-01],\n",
       "       [1.41194072e-03, 8.10534862e-01, 1.88053198e-01],\n",
       "       [9.68730027e-01, 3.12326882e-02, 3.72845641e-05],\n",
       "       [4.95737206e-06, 9.67577289e-02, 9.03237314e-01],\n",
       "       [4.95737206e-06, 9.67577289e-02, 9.03237314e-01],\n",
       "       [9.68730027e-01, 3.12326882e-02, 3.72845641e-05],\n",
       "       [9.68730027e-01, 3.12326882e-02, 3.72845641e-05],\n",
       "       [3.56087840e-02, 9.60924364e-01, 3.46685201e-03],\n",
       "       [4.95737206e-06, 9.67577289e-02, 9.03237314e-01],\n",
       "       [3.56087840e-02, 9.60924364e-01, 3.46685201e-03],\n",
       "       [5.00033918e-01, 4.99767214e-01, 1.98868598e-04],\n",
       "       [5.00033918e-01, 4.99767214e-01, 1.98868598e-04],\n",
       "       [9.68730027e-01, 3.12326882e-02, 3.72845641e-05],\n",
       "       [9.68730027e-01, 3.12326882e-02, 3.72845641e-05],\n",
       "       [4.95737206e-06, 9.67577289e-02, 9.03237314e-01],\n",
       "       [9.68730027e-01, 3.12326882e-02, 3.72845641e-05],\n",
       "       [4.95737206e-06, 9.67577289e-02, 9.03237314e-01],\n",
       "       [5.47556671e-05, 3.44747823e-02, 9.65470462e-01],\n",
       "       [5.47556671e-05, 3.44747823e-02, 9.65470462e-01],\n",
       "       [5.47556671e-05, 3.44747823e-02, 9.65470462e-01],\n",
       "       [9.68730027e-01, 3.12326882e-02, 3.72845641e-05],\n",
       "       [4.95737206e-06, 9.67577289e-02, 9.03237314e-01],\n",
       "       [9.68730027e-01, 3.12326882e-02, 3.72845641e-05],\n",
       "       [5.47556671e-05, 3.44747823e-02, 9.65470462e-01],\n",
       "       [5.47556671e-05, 3.44747823e-02, 9.65470462e-01],\n",
       "       [5.00033918e-01, 4.99767214e-01, 1.98868598e-04],\n",
       "       [5.00033918e-01, 4.99767214e-01, 1.98868598e-04],\n",
       "       [9.68730027e-01, 3.12326882e-02, 3.72845641e-05],\n",
       "       [5.47556671e-05, 3.44747823e-02, 9.65470462e-01],\n",
       "       [4.95737206e-06, 9.67577289e-02, 9.03237314e-01],\n",
       "       [5.47556671e-05, 3.44747823e-02, 9.65470462e-01],\n",
       "       [4.95737206e-06, 9.67577289e-02, 9.03237314e-01],\n",
       "       [9.68730027e-01, 3.12326882e-02, 3.72845641e-05],\n",
       "       [4.95737206e-06, 9.67577289e-02, 9.03237314e-01],\n",
       "       [5.47556671e-05, 3.44747823e-02, 9.65470462e-01],\n",
       "       [4.95737206e-06, 9.67577289e-02, 9.03237314e-01],\n",
       "       [9.68730027e-01, 3.12326882e-02, 3.72845641e-05],\n",
       "       [5.00033918e-01, 4.99767214e-01, 1.98868598e-04],\n",
       "       [5.00033918e-01, 4.99767214e-01, 1.98868598e-04],\n",
       "       [6.81119385e-04, 4.92372318e-01, 5.06946563e-01],\n",
       "       [3.56087840e-02, 9.60924364e-01, 3.46685201e-03]])"
      ]
     },
     "execution_count": 17,
     "metadata": {},
     "output_type": "execute_result"
    }
   ],
   "source": [
    "modelb.predict_proba(X_test)"
   ]
  },
  {
   "cell_type": "code",
   "execution_count": 18,
   "metadata": {},
   "outputs": [
    {
     "name": "stdout",
     "output_type": "stream",
     "text": [
      "Training Set Score: 0.7523809523809524\n",
      "Test Set Score: 0.7111111111111111\n"
     ]
    }
   ],
   "source": [
    "print('Training Set Score:',modelb.score(X_train,y_train))\n",
    "print('Test Set Score:',modelb.score(X_test,y_test))"
   ]
  }
 ],
 "metadata": {
  "kernelspec": {
   "display_name": "Python 3",
   "language": "python",
   "name": "python3"
  },
  "language_info": {
   "codemirror_mode": {
    "name": "ipython",
    "version": 3
   },
   "file_extension": ".py",
   "mimetype": "text/x-python",
   "name": "python",
   "nbconvert_exporter": "python",
   "pygments_lexer": "ipython3",
   "version": "3.5.6"
  }
 },
 "nbformat": 4,
 "nbformat_minor": 2
}

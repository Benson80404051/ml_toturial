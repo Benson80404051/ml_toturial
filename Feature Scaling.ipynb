{
 "cells": [
  {
   "cell_type": "code",
   "execution_count": 1,
   "metadata": {},
   "outputs": [],
   "source": [
    "import pandas as pd\n",
    "import numpy as np\n",
    "import sklearn.preprocessing as sp"
   ]
  },
  {
   "cell_type": "code",
   "execution_count": 2,
   "metadata": {},
   "outputs": [],
   "source": [
    "data1=np.random.randint(0,100,size=50)\n",
    "data2=np.random.randint(100,1000,size=50)"
   ]
  },
  {
   "cell_type": "code",
   "execution_count": 3,
   "metadata": {},
   "outputs": [],
   "source": [
    "df=pd.DataFrame([data1,data2])\n",
    "df=df.T"
   ]
  },
  {
   "cell_type": "code",
   "execution_count": 4,
   "metadata": {},
   "outputs": [
    {
     "data": {
      "text/html": [
       "<div>\n",
       "<style scoped>\n",
       "    .dataframe tbody tr th:only-of-type {\n",
       "        vertical-align: middle;\n",
       "    }\n",
       "\n",
       "    .dataframe tbody tr th {\n",
       "        vertical-align: top;\n",
       "    }\n",
       "\n",
       "    .dataframe thead th {\n",
       "        text-align: right;\n",
       "    }\n",
       "</style>\n",
       "<table border=\"1\" class=\"dataframe\">\n",
       "  <thead>\n",
       "    <tr style=\"text-align: right;\">\n",
       "      <th></th>\n",
       "      <th>0</th>\n",
       "      <th>1</th>\n",
       "    </tr>\n",
       "  </thead>\n",
       "  <tbody>\n",
       "    <tr>\n",
       "      <th>0</th>\n",
       "      <td>52</td>\n",
       "      <td>100</td>\n",
       "    </tr>\n",
       "    <tr>\n",
       "      <th>1</th>\n",
       "      <td>6</td>\n",
       "      <td>133</td>\n",
       "    </tr>\n",
       "    <tr>\n",
       "      <th>2</th>\n",
       "      <td>36</td>\n",
       "      <td>230</td>\n",
       "    </tr>\n",
       "    <tr>\n",
       "      <th>3</th>\n",
       "      <td>99</td>\n",
       "      <td>950</td>\n",
       "    </tr>\n",
       "    <tr>\n",
       "      <th>4</th>\n",
       "      <td>45</td>\n",
       "      <td>765</td>\n",
       "    </tr>\n",
       "    <tr>\n",
       "      <th>5</th>\n",
       "      <td>96</td>\n",
       "      <td>103</td>\n",
       "    </tr>\n",
       "    <tr>\n",
       "      <th>6</th>\n",
       "      <td>32</td>\n",
       "      <td>444</td>\n",
       "    </tr>\n",
       "    <tr>\n",
       "      <th>7</th>\n",
       "      <td>4</td>\n",
       "      <td>859</td>\n",
       "    </tr>\n",
       "    <tr>\n",
       "      <th>8</th>\n",
       "      <td>73</td>\n",
       "      <td>310</td>\n",
       "    </tr>\n",
       "    <tr>\n",
       "      <th>9</th>\n",
       "      <td>44</td>\n",
       "      <td>358</td>\n",
       "    </tr>\n",
       "  </tbody>\n",
       "</table>\n",
       "</div>"
      ],
      "text/plain": [
       "    0    1\n",
       "0  52  100\n",
       "1   6  133\n",
       "2  36  230\n",
       "3  99  950\n",
       "4  45  765\n",
       "5  96  103\n",
       "6  32  444\n",
       "7   4  859\n",
       "8  73  310\n",
       "9  44  358"
      ]
     },
     "execution_count": 4,
     "metadata": {},
     "output_type": "execute_result"
    }
   ],
   "source": [
    "df.head(10)"
   ]
  },
  {
   "cell_type": "code",
   "execution_count": 5,
   "metadata": {},
   "outputs": [
    {
     "data": {
      "text/html": [
       "<div>\n",
       "<style scoped>\n",
       "    .dataframe tbody tr th:only-of-type {\n",
       "        vertical-align: middle;\n",
       "    }\n",
       "\n",
       "    .dataframe tbody tr th {\n",
       "        vertical-align: top;\n",
       "    }\n",
       "\n",
       "    .dataframe thead th {\n",
       "        text-align: right;\n",
       "    }\n",
       "</style>\n",
       "<table border=\"1\" class=\"dataframe\">\n",
       "  <thead>\n",
       "    <tr style=\"text-align: right;\">\n",
       "      <th></th>\n",
       "      <th>0</th>\n",
       "      <th>1</th>\n",
       "    </tr>\n",
       "  </thead>\n",
       "  <tbody>\n",
       "    <tr>\n",
       "      <th>count</th>\n",
       "      <td>50.000000</td>\n",
       "      <td>50.000000</td>\n",
       "    </tr>\n",
       "    <tr>\n",
       "      <th>mean</th>\n",
       "      <td>53.480000</td>\n",
       "      <td>523.740000</td>\n",
       "    </tr>\n",
       "    <tr>\n",
       "      <th>std</th>\n",
       "      <td>30.063362</td>\n",
       "      <td>277.191145</td>\n",
       "    </tr>\n",
       "    <tr>\n",
       "      <th>min</th>\n",
       "      <td>1.000000</td>\n",
       "      <td>100.000000</td>\n",
       "    </tr>\n",
       "    <tr>\n",
       "      <th>25%</th>\n",
       "      <td>34.250000</td>\n",
       "      <td>281.750000</td>\n",
       "    </tr>\n",
       "    <tr>\n",
       "      <th>50%</th>\n",
       "      <td>55.500000</td>\n",
       "      <td>554.000000</td>\n",
       "    </tr>\n",
       "    <tr>\n",
       "      <th>75%</th>\n",
       "      <td>80.750000</td>\n",
       "      <td>755.500000</td>\n",
       "    </tr>\n",
       "    <tr>\n",
       "      <th>max</th>\n",
       "      <td>99.000000</td>\n",
       "      <td>956.000000</td>\n",
       "    </tr>\n",
       "  </tbody>\n",
       "</table>\n",
       "</div>"
      ],
      "text/plain": [
       "               0           1\n",
       "count  50.000000   50.000000\n",
       "mean   53.480000  523.740000\n",
       "std    30.063362  277.191145\n",
       "min     1.000000  100.000000\n",
       "25%    34.250000  281.750000\n",
       "50%    55.500000  554.000000\n",
       "75%    80.750000  755.500000\n",
       "max    99.000000  956.000000"
      ]
     },
     "execution_count": 5,
     "metadata": {},
     "output_type": "execute_result"
    }
   ],
   "source": [
    "df.describe()"
   ]
  },
  {
   "cell_type": "markdown",
   "metadata": {},
   "source": [
    "# Rescaling"
   ]
  },
  {
   "cell_type": "markdown",
   "metadata": {},
   "source": [
    "# $$x^*=\\frac{x-x_{min}}{x_{max}-x_{min}}$$"
   ]
  },
  {
   "cell_type": "code",
   "execution_count": 6,
   "metadata": {},
   "outputs": [],
   "source": [
    "FS_1=sp.MinMaxScaler().fit(df)\n",
    "result_minmax=FS_1.transform(df)"
   ]
  },
  {
   "cell_type": "code",
   "execution_count": 8,
   "metadata": {},
   "outputs": [
    {
     "data": {
      "text/plain": [
       "array([[0.52040816, 0.        ],\n",
       "       [0.05102041, 0.0385514 ],\n",
       "       [0.35714286, 0.15186916],\n",
       "       [1.        , 0.99299065],\n",
       "       [0.44897959, 0.77686916],\n",
       "       [0.96938776, 0.00350467],\n",
       "       [0.31632653, 0.40186916],\n",
       "       [0.03061224, 0.88668224],\n",
       "       [0.73469388, 0.2453271 ],\n",
       "       [0.43877551, 0.30140187],\n",
       "       [0.34693878, 0.73247664],\n",
       "       [0.52040816, 0.56658879],\n",
       "       [0.13265306, 0.10514019],\n",
       "       [0.42857143, 0.90654206],\n",
       "       [0.95918367, 0.01985981],\n",
       "       [0.41836735, 0.58761682],\n",
       "       [1.        , 0.58761682],\n",
       "       [0.80612245, 0.17873832],\n",
       "       [0.04081633, 0.96378505],\n",
       "       [0.60204082, 0.00584112],\n",
       "       [0.05102041, 0.6588785 ],\n",
       "       [0.62244898, 0.22546729],\n",
       "       [0.86734694, 0.18457944],\n",
       "       [0.83673469, 0.85630841],\n",
       "       [0.81632653, 0.53037383],\n",
       "       [0.67346939, 0.69976636],\n",
       "       [0.6122449 , 0.98948598],\n",
       "       [0.91836735, 0.83878505],\n",
       "       [0.47959184, 0.20794393],\n",
       "       [0.7755102 , 0.53037383],\n",
       "       [0.92857143, 0.05841121],\n",
       "       [0.64285714, 0.38785047],\n",
       "       [0.2755102 , 0.38668224],\n",
       "       [0.75510204, 0.97313084],\n",
       "       [0.33673469, 0.44509346],\n",
       "       [0.39795918, 0.58761682],\n",
       "       [0.8877551 , 0.9135514 ],\n",
       "       [0.6122449 , 0.0911215 ],\n",
       "       [0.39795918, 0.54088785],\n",
       "       [0.81632653, 0.25350467],\n",
       "       [0.64285714, 0.56191589],\n",
       "       [0.07142857, 0.95911215],\n",
       "       [0.06122449, 0.88317757],\n",
       "       [0.47959184, 0.49649533],\n",
       "       [0.87755102, 0.05140187],\n",
       "       [0.        , 0.39719626],\n",
       "       [0.24489796, 0.54556075],\n",
       "       [0.59183673, 0.67523364],\n",
       "       [0.91836735, 0.36799065],\n",
       "       [0.06122449, 1.        ]])"
      ]
     },
     "execution_count": 8,
     "metadata": {},
     "output_type": "execute_result"
    }
   ],
   "source": [
    "result_minmax"
   ]
  },
  {
   "cell_type": "markdown",
   "metadata": {},
   "source": [
    "# Standardization"
   ]
  },
  {
   "cell_type": "markdown",
   "metadata": {},
   "source": [
    "# $$x^*=\\frac{x-\\mu}{\\sigma}$$"
   ]
  },
  {
   "cell_type": "code",
   "execution_count": 10,
   "metadata": {},
   "outputs": [],
   "source": [
    "FS_2=sp.StandardScaler().fit(df)\n",
    "result_std=FS_2.transform(df)"
   ]
  },
  {
   "cell_type": "code",
   "execution_count": 11,
   "metadata": {},
   "outputs": [
    {
     "data": {
      "text/plain": [
       "array([[-0.04972916, -1.54421253],\n",
       "       [-1.59536526, -1.42395243],\n",
       "       [-0.58734172, -1.07046063],\n",
       "       [ 1.52950772,  1.55339603],\n",
       "       [-0.28493465,  0.87921064],\n",
       "       [ 1.42870537, -1.53327979],\n",
       "       [-0.72174486, -0.29059212],\n",
       "       [-1.66256683,  1.2217697 ],\n",
       "       [ 0.65588732, -0.778921  ],\n",
       "       [-0.31853544, -0.60399723],\n",
       "       [-0.6209425 ,  0.74072931],\n",
       "       [-0.04972916,  0.22324647],\n",
       "       [-1.32655898, -1.21623045],\n",
       "       [-0.35213622,  1.28372187],\n",
       "       [ 1.39510458, -1.48226036],\n",
       "       [-0.38573701,  0.28884289],\n",
       "       [ 1.52950772,  0.28884289],\n",
       "       [ 0.89109281, -0.98664299],\n",
       "       [-1.62896605,  1.46228989],\n",
       "       [ 0.21907712, -1.5259913 ],\n",
       "       [-1.59536526,  0.51114185],\n",
       "       [ 0.28627869, -0.84087317],\n",
       "       [ 1.09269752, -0.96842176],\n",
       "       [ 0.99189517,  1.12701932],\n",
       "       [ 0.9246936 ,  0.11027486],\n",
       "       [ 0.45428261,  0.63869044],\n",
       "       [ 0.2526779 ,  1.54246329],\n",
       "       [ 1.26070144,  1.07235564],\n",
       "       [-0.1841323 , -0.89553685],\n",
       "       [ 0.79029046,  0.11027486],\n",
       "       [ 1.29430223, -1.36200026],\n",
       "       [ 0.35348026, -0.33432307],\n",
       "       [-0.856148  , -0.33796731],\n",
       "       [ 0.72308889,  1.49144386],\n",
       "       [-0.65454329, -0.15575505],\n",
       "       [-0.45293858,  0.28884289],\n",
       "       [ 1.15989909,  1.30558734],\n",
       "       [ 0.2526779 , -1.25996139],\n",
       "       [-0.45293858,  0.14307307],\n",
       "       [ 0.9246936 , -0.75341129],\n",
       "       [ 0.35348026,  0.20866949],\n",
       "       [-1.52816369,  1.44771291],\n",
       "       [-1.56176448,  1.21083696],\n",
       "       [-0.1841323 ,  0.00459175],\n",
       "       [ 1.12629831, -1.38386573],\n",
       "       [-1.76336918, -0.30516911],\n",
       "       [-0.95695035,  0.15765005],\n",
       "       [ 0.18547633,  0.56216129],\n",
       "       [ 1.26070144, -0.39627524],\n",
       "       [-1.56176448,  1.5752615 ]])"
      ]
     },
     "execution_count": 11,
     "metadata": {},
     "output_type": "execute_result"
    }
   ],
   "source": [
    "result_std"
   ]
  },
  {
   "cell_type": "code",
   "execution_count": 13,
   "metadata": {},
   "outputs": [
    {
     "data": {
      "text/plain": [
       "-1.7763568394002505e-17"
      ]
     },
     "execution_count": 13,
     "metadata": {},
     "output_type": "execute_result"
    }
   ],
   "source": [
    "result_std[:,1].mean()"
   ]
  },
  {
   "cell_type": "code",
   "execution_count": 15,
   "metadata": {},
   "outputs": [
    {
     "data": {
      "text/plain": [
       "1.0"
      ]
     },
     "execution_count": 15,
     "metadata": {},
     "output_type": "execute_result"
    }
   ],
   "source": [
    "result_std[:,1].std()"
   ]
  }
 ],
 "metadata": {
  "kernelspec": {
   "display_name": "Python 3",
   "language": "python",
   "name": "python3"
  },
  "language_info": {
   "codemirror_mode": {
    "name": "ipython",
    "version": 3
   },
   "file_extension": ".py",
   "mimetype": "text/x-python",
   "name": "python",
   "nbconvert_exporter": "python",
   "pygments_lexer": "ipython3",
   "version": "3.5.6"
  }
 },
 "nbformat": 4,
 "nbformat_minor": 2
}
